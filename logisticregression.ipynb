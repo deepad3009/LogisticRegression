{
 "cells": [
  {
   "cell_type": "markdown",
   "metadata": {},
   "source": [
    "# Importing Python Machine Learning Libraries\n",
    "We need to import pandas, numpy and sklearn libraries. \n",
    "From sklearn, we need to import preprocessing modules like Imputer. \n",
    "The Imputer package helps to impute the missing values."
   ]
  },
  {
   "cell_type": "code",
   "execution_count": 1,
   "metadata": {},
   "outputs": [
    {
     "name": "stderr",
     "output_type": "stream",
     "text": [
      "C:\\Users\\deepa\\Anaconda3\\lib\\site-packages\\sklearn\\cross_validation.py:41: DeprecationWarning: This module was deprecated in version 0.18 in favor of the model_selection module into which all the refactored classes and functions are moved. Also note that the interface of the new CV iterators are different from that of this module. This module will be removed in 0.20.\n",
      "  \"This module will be removed in 0.20.\", DeprecationWarning)\n"
     ]
    }
   ],
   "source": [
    "# Required Python Machine learning Packages\n",
    "import pandas as pd\n",
    "import numpy as np\n",
    "# For preprocessing the data\n",
    "from sklearn.preprocessing import Imputer\n",
    "from sklearn import preprocessing\n",
    "# To split the dataset into train and test datasets\n",
    "from sklearn.cross_validation import train_test_split\n",
    "# To model the Gaussian Navie Bayes classifier\n",
    "from sklearn.naive_bayes import GaussianNB\n",
    "# To calculate the accuracy score of the model\n",
    "from sklearn.metrics import accuracy_score"
   ]
  },
  {
   "cell_type": "markdown",
   "metadata": {},
   "source": [
    "# Data Import\n",
    "For importing the housevotes data, we are using pandas read_csv() method. \n",
    "This method is a very simple and fast method for importing data."
   ]
  },
  {
   "cell_type": "code",
   "execution_count": 2,
   "metadata": {
    "collapsed": true
   },
   "outputs": [],
   "source": [
    "housevotes = pd.read_csv('C:/Users/deepa/Desktop/1/DA/assignment/New folder/housevotes.csv', engine='python')"
   ]
  },
  {
   "cell_type": "markdown",
   "metadata": {},
   "source": [
    "# Handling Missing Data\n",
    "Let’s try to test whether there is any null value in our dataset or not. We can do this using isnull()method."
   ]
  },
  {
   "cell_type": "code",
   "execution_count": 3,
   "metadata": {},
   "outputs": [
    {
     "data": {
      "text/plain": [
       "Party                                0\n",
       "handicapped_infants                  0\n",
       "water_project_cost_sharing           0\n",
       "adoption_of_the_budget_resolution    0\n",
       "physician_fee_freeze                 0\n",
       "el_salvador_aid                      0\n",
       "religious_groups_in_schools          0\n",
       "nti_satellite_test_ban               0\n",
       "aid_to_nicaraguan_contras            0\n",
       "mx_missile                           0\n",
       "immigration                          0\n",
       "synfuels_corporation_cutback         0\n",
       "education_spending                   0\n",
       "superfund_right_to_sue               0\n",
       "crime                                0\n",
       "duty_free_exports                    0\n",
       "export_administration_act_sa         0\n",
       "dtype: int64"
      ]
     },
     "execution_count": 3,
     "metadata": {},
     "output_type": "execute_result"
    }
   ],
   "source": [
    "housevotes.isnull().sum()"
   ]
  },
  {
   "cell_type": "markdown",
   "metadata": {},
   "source": [
    "# Data preprocessing\n",
    "For preprocessing, we are going to make a duplicate copy of our original dataframe.\n",
    "We are duplicating housevotes to housevotes_rev dataframe."
   ]
  },
  {
   "cell_type": "code",
   "execution_count": 4,
   "metadata": {
    "collapsed": true
   },
   "outputs": [],
   "source": [
    "housevotes_rev = housevotes"
   ]
  },
  {
   "cell_type": "markdown",
   "metadata": {},
   "source": [
    "We are passing an “include” parameter with value as “all”, this is used to specify that we want summary statistics of all the attributes."
   ]
  },
  {
   "cell_type": "code",
   "execution_count": 5,
   "metadata": {},
   "outputs": [
    {
     "data": {
      "text/html": [
       "<div>\n",
       "<style>\n",
       "    .dataframe thead tr:only-child th {\n",
       "        text-align: right;\n",
       "    }\n",
       "\n",
       "    .dataframe thead th {\n",
       "        text-align: left;\n",
       "    }\n",
       "\n",
       "    .dataframe tbody tr th {\n",
       "        vertical-align: top;\n",
       "    }\n",
       "</style>\n",
       "<table border=\"1\" class=\"dataframe\">\n",
       "  <thead>\n",
       "    <tr style=\"text-align: right;\">\n",
       "      <th></th>\n",
       "      <th>Party</th>\n",
       "      <th>handicapped_infants</th>\n",
       "      <th>water_project_cost_sharing</th>\n",
       "      <th>adoption_of_the_budget_resolution</th>\n",
       "      <th>physician_fee_freeze</th>\n",
       "      <th>el_salvador_aid</th>\n",
       "      <th>religious_groups_in_schools</th>\n",
       "      <th>nti_satellite_test_ban</th>\n",
       "      <th>aid_to_nicaraguan_contras</th>\n",
       "      <th>mx_missile</th>\n",
       "      <th>immigration</th>\n",
       "      <th>synfuels_corporation_cutback</th>\n",
       "      <th>education_spending</th>\n",
       "      <th>superfund_right_to_sue</th>\n",
       "      <th>crime</th>\n",
       "      <th>duty_free_exports</th>\n",
       "      <th>export_administration_act_sa</th>\n",
       "    </tr>\n",
       "  </thead>\n",
       "  <tbody>\n",
       "    <tr>\n",
       "      <th>count</th>\n",
       "      <td>435</td>\n",
       "      <td>435</td>\n",
       "      <td>435</td>\n",
       "      <td>435</td>\n",
       "      <td>435</td>\n",
       "      <td>435</td>\n",
       "      <td>435</td>\n",
       "      <td>435</td>\n",
       "      <td>435</td>\n",
       "      <td>435</td>\n",
       "      <td>435</td>\n",
       "      <td>435</td>\n",
       "      <td>435</td>\n",
       "      <td>435</td>\n",
       "      <td>435</td>\n",
       "      <td>435</td>\n",
       "      <td>435</td>\n",
       "    </tr>\n",
       "    <tr>\n",
       "      <th>unique</th>\n",
       "      <td>2</td>\n",
       "      <td>3</td>\n",
       "      <td>3</td>\n",
       "      <td>3</td>\n",
       "      <td>3</td>\n",
       "      <td>3</td>\n",
       "      <td>3</td>\n",
       "      <td>3</td>\n",
       "      <td>3</td>\n",
       "      <td>3</td>\n",
       "      <td>3</td>\n",
       "      <td>3</td>\n",
       "      <td>3</td>\n",
       "      <td>3</td>\n",
       "      <td>3</td>\n",
       "      <td>3</td>\n",
       "      <td>3</td>\n",
       "    </tr>\n",
       "    <tr>\n",
       "      <th>top</th>\n",
       "      <td>democrat</td>\n",
       "      <td>n</td>\n",
       "      <td>y</td>\n",
       "      <td>y</td>\n",
       "      <td>n</td>\n",
       "      <td>y</td>\n",
       "      <td>y</td>\n",
       "      <td>y</td>\n",
       "      <td>y</td>\n",
       "      <td>y</td>\n",
       "      <td>y</td>\n",
       "      <td>n</td>\n",
       "      <td>n</td>\n",
       "      <td>y</td>\n",
       "      <td>y</td>\n",
       "      <td>n</td>\n",
       "      <td>y</td>\n",
       "    </tr>\n",
       "    <tr>\n",
       "      <th>freq</th>\n",
       "      <td>267</td>\n",
       "      <td>236</td>\n",
       "      <td>195</td>\n",
       "      <td>253</td>\n",
       "      <td>247</td>\n",
       "      <td>212</td>\n",
       "      <td>272</td>\n",
       "      <td>239</td>\n",
       "      <td>242</td>\n",
       "      <td>207</td>\n",
       "      <td>216</td>\n",
       "      <td>264</td>\n",
       "      <td>233</td>\n",
       "      <td>209</td>\n",
       "      <td>248</td>\n",
       "      <td>233</td>\n",
       "      <td>269</td>\n",
       "    </tr>\n",
       "  </tbody>\n",
       "</table>\n",
       "</div>"
      ],
      "text/plain": [
       "           Party handicapped_infants water_project_cost_sharing  \\\n",
       "count        435                 435                        435   \n",
       "unique         2                   3                          3   \n",
       "top     democrat                   n                          y   \n",
       "freq         267                 236                        195   \n",
       "\n",
       "       adoption_of_the_budget_resolution physician_fee_freeze el_salvador_aid  \\\n",
       "count                                435                  435             435   \n",
       "unique                                 3                    3               3   \n",
       "top                                    y                    n               y   \n",
       "freq                                 253                  247             212   \n",
       "\n",
       "       religious_groups_in_schools nti_satellite_test_ban  \\\n",
       "count                          435                    435   \n",
       "unique                           3                      3   \n",
       "top                              y                      y   \n",
       "freq                           272                    239   \n",
       "\n",
       "       aid_to_nicaraguan_contras mx_missile immigration  \\\n",
       "count                        435        435         435   \n",
       "unique                         3          3           3   \n",
       "top                            y          y           y   \n",
       "freq                         242        207         216   \n",
       "\n",
       "       synfuels_corporation_cutback education_spending superfund_right_to_sue  \\\n",
       "count                           435                435                    435   \n",
       "unique                            3                  3                      3   \n",
       "top                               n                  n                      y   \n",
       "freq                            264                233                    209   \n",
       "\n",
       "       crime duty_free_exports export_administration_act_sa  \n",
       "count    435               435                          435  \n",
       "unique     3                 3                            3  \n",
       "top        y                 n                            y  \n",
       "freq     248               233                          269  "
      ]
     },
     "execution_count": 5,
     "metadata": {},
     "output_type": "execute_result"
    }
   ],
   "source": [
    "housevotes_rev.describe(include= 'all')"
   ]
  },
  {
   "cell_type": "markdown",
   "metadata": {},
   "source": [
    "# One-Hot Encoder\n",
    "For implementing this, we are going to use LabelEncoder of scikit learn library."
   ]
  },
  {
   "cell_type": "code",
   "execution_count": 6,
   "metadata": {},
   "outputs": [
    {
     "data": {
      "text/html": [
       "<div>\n",
       "<style>\n",
       "    .dataframe thead tr:only-child th {\n",
       "        text-align: right;\n",
       "    }\n",
       "\n",
       "    .dataframe thead th {\n",
       "        text-align: left;\n",
       "    }\n",
       "\n",
       "    .dataframe tbody tr th {\n",
       "        vertical-align: top;\n",
       "    }\n",
       "</style>\n",
       "<table border=\"1\" class=\"dataframe\">\n",
       "  <thead>\n",
       "    <tr style=\"text-align: right;\">\n",
       "      <th></th>\n",
       "      <th>Party</th>\n",
       "      <th>handicapped_infants</th>\n",
       "      <th>water_project_cost_sharing</th>\n",
       "      <th>adoption_of_the_budget_resolution</th>\n",
       "      <th>physician_fee_freeze</th>\n",
       "      <th>el_salvador_aid</th>\n",
       "      <th>religious_groups_in_schools</th>\n",
       "      <th>nti_satellite_test_ban</th>\n",
       "      <th>aid_to_nicaraguan_contras</th>\n",
       "      <th>mx_missile</th>\n",
       "      <th>immigration</th>\n",
       "      <th>synfuels_corporation_cutback</th>\n",
       "      <th>education_spending</th>\n",
       "      <th>superfund_right_to_sue</th>\n",
       "      <th>crime</th>\n",
       "      <th>duty_free_exports</th>\n",
       "      <th>export_administration_act_sa</th>\n",
       "    </tr>\n",
       "  </thead>\n",
       "  <tbody>\n",
       "    <tr>\n",
       "      <th>0</th>\n",
       "      <td>1</td>\n",
       "      <td>0</td>\n",
       "      <td>2</td>\n",
       "      <td>0</td>\n",
       "      <td>2</td>\n",
       "      <td>2</td>\n",
       "      <td>2</td>\n",
       "      <td>0</td>\n",
       "      <td>0</td>\n",
       "      <td>0</td>\n",
       "      <td>2</td>\n",
       "      <td>1</td>\n",
       "      <td>2</td>\n",
       "      <td>2</td>\n",
       "      <td>2</td>\n",
       "      <td>0</td>\n",
       "      <td>2</td>\n",
       "    </tr>\n",
       "    <tr>\n",
       "      <th>1</th>\n",
       "      <td>1</td>\n",
       "      <td>0</td>\n",
       "      <td>2</td>\n",
       "      <td>0</td>\n",
       "      <td>2</td>\n",
       "      <td>2</td>\n",
       "      <td>2</td>\n",
       "      <td>0</td>\n",
       "      <td>0</td>\n",
       "      <td>0</td>\n",
       "      <td>0</td>\n",
       "      <td>0</td>\n",
       "      <td>2</td>\n",
       "      <td>2</td>\n",
       "      <td>2</td>\n",
       "      <td>0</td>\n",
       "      <td>1</td>\n",
       "    </tr>\n",
       "    <tr>\n",
       "      <th>2</th>\n",
       "      <td>0</td>\n",
       "      <td>1</td>\n",
       "      <td>2</td>\n",
       "      <td>2</td>\n",
       "      <td>1</td>\n",
       "      <td>2</td>\n",
       "      <td>2</td>\n",
       "      <td>0</td>\n",
       "      <td>0</td>\n",
       "      <td>0</td>\n",
       "      <td>0</td>\n",
       "      <td>2</td>\n",
       "      <td>0</td>\n",
       "      <td>2</td>\n",
       "      <td>2</td>\n",
       "      <td>0</td>\n",
       "      <td>0</td>\n",
       "    </tr>\n",
       "    <tr>\n",
       "      <th>3</th>\n",
       "      <td>0</td>\n",
       "      <td>0</td>\n",
       "      <td>2</td>\n",
       "      <td>2</td>\n",
       "      <td>0</td>\n",
       "      <td>1</td>\n",
       "      <td>2</td>\n",
       "      <td>0</td>\n",
       "      <td>0</td>\n",
       "      <td>0</td>\n",
       "      <td>0</td>\n",
       "      <td>2</td>\n",
       "      <td>0</td>\n",
       "      <td>2</td>\n",
       "      <td>0</td>\n",
       "      <td>0</td>\n",
       "      <td>2</td>\n",
       "    </tr>\n",
       "    <tr>\n",
       "      <th>4</th>\n",
       "      <td>0</td>\n",
       "      <td>2</td>\n",
       "      <td>2</td>\n",
       "      <td>2</td>\n",
       "      <td>0</td>\n",
       "      <td>2</td>\n",
       "      <td>2</td>\n",
       "      <td>0</td>\n",
       "      <td>0</td>\n",
       "      <td>0</td>\n",
       "      <td>0</td>\n",
       "      <td>2</td>\n",
       "      <td>1</td>\n",
       "      <td>2</td>\n",
       "      <td>2</td>\n",
       "      <td>2</td>\n",
       "      <td>2</td>\n",
       "    </tr>\n",
       "  </tbody>\n",
       "</table>\n",
       "</div>"
      ],
      "text/plain": [
       "   Party  handicapped_infants  water_project_cost_sharing  \\\n",
       "0      1                    0                           2   \n",
       "1      1                    0                           2   \n",
       "2      0                    1                           2   \n",
       "3      0                    0                           2   \n",
       "4      0                    2                           2   \n",
       "\n",
       "   adoption_of_the_budget_resolution  physician_fee_freeze  el_salvador_aid  \\\n",
       "0                                  0                     2                2   \n",
       "1                                  0                     2                2   \n",
       "2                                  2                     1                2   \n",
       "3                                  2                     0                1   \n",
       "4                                  2                     0                2   \n",
       "\n",
       "   religious_groups_in_schools  nti_satellite_test_ban  \\\n",
       "0                            2                       0   \n",
       "1                            2                       0   \n",
       "2                            2                       0   \n",
       "3                            2                       0   \n",
       "4                            2                       0   \n",
       "\n",
       "   aid_to_nicaraguan_contras  mx_missile  immigration  \\\n",
       "0                          0           0            2   \n",
       "1                          0           0            0   \n",
       "2                          0           0            0   \n",
       "3                          0           0            0   \n",
       "4                          0           0            0   \n",
       "\n",
       "   synfuels_corporation_cutback  education_spending  superfund_right_to_sue  \\\n",
       "0                             1                   2                       2   \n",
       "1                             0                   2                       2   \n",
       "2                             2                   0                       2   \n",
       "3                             2                   0                       2   \n",
       "4                             2                   1                       2   \n",
       "\n",
       "   crime  duty_free_exports  export_administration_act_sa  \n",
       "0      2                  0                             2  \n",
       "1      2                  0                             1  \n",
       "2      2                  0                             0  \n",
       "3      0                  0                             2  \n",
       "4      2                  2                             2  "
      ]
     },
     "execution_count": 6,
     "metadata": {},
     "output_type": "execute_result"
    }
   ],
   "source": [
    "le = preprocessing.LabelEncoder()\n",
    "housevotes2 = housevotes.apply(le.fit_transform)\n",
    "housevotes2.head()"
   ]
  },
  {
   "cell_type": "markdown",
   "metadata": {},
   "source": [
    "For encoding, we can also use the One-Hot encoder. It encodes the data into binary format."
   ]
  },
  {
   "cell_type": "code",
   "execution_count": 7,
   "metadata": {},
   "outputs": [
    {
     "data": {
      "text/plain": [
       "(435, 50)"
      ]
     },
     "execution_count": 7,
     "metadata": {},
     "output_type": "execute_result"
    }
   ],
   "source": [
    "enc = preprocessing.OneHotEncoder()\n",
    "\n",
    "# 2. FIT\n",
    "enc.fit(housevotes2)\n",
    "\n",
    "# 3. Transform\n",
    "onehotlabels = enc.transform(housevotes2).toarray()\n",
    "onehotlabels.shape"
   ]
  },
  {
   "cell_type": "code",
   "execution_count": 8,
   "metadata": {
    "collapsed": true
   },
   "outputs": [],
   "source": [
    "X = housevotes2.drop('Party', axis=1)\n",
    "y = housevotes2['Party']\n",
    "\n",
    "from sklearn.cross_validation import train_test_split\n",
    "Xtrain, Xtest, ytrain, ytest = train_test_split(X, y,\n",
    "                                                random_state=1)"
   ]
  },
  {
   "cell_type": "markdown",
   "metadata": {},
   "source": [
    "# Building and training a Logistic Regression model\n",
    "In statistics, logistic regression, or logit regression, or logit model is a regression model where the dependent variable (DV) is categorical."
   ]
  },
  {
   "cell_type": "code",
   "execution_count": 9,
   "metadata": {},
   "outputs": [
    {
     "name": "stdout",
     "output_type": "stream",
     "text": [
      "Optimization terminated successfully.\n",
      "         Current function value: 0.064055\n",
      "         Iterations 10\n"
     ]
    },
    {
     "data": {
      "text/html": [
       "<table class=\"simpletable\">\n",
       "<caption>Logit Regression Results</caption>\n",
       "<tr>\n",
       "  <th>Dep. Variable:</th>       <td>Party</td>      <th>  No. Observations:  </th>   <td>   435</td>  \n",
       "</tr>\n",
       "<tr>\n",
       "  <th>Model:</th>               <td>Logit</td>      <th>  Df Residuals:      </th>   <td>   418</td>  \n",
       "</tr>\n",
       "<tr>\n",
       "  <th>Method:</th>               <td>MLE</td>       <th>  Df Model:          </th>   <td>    16</td>  \n",
       "</tr>\n",
       "<tr>\n",
       "  <th>Date:</th>          <td>Sun, 18 Feb 2018</td> <th>  Pseudo R-squ.:     </th>   <td>0.9040</td>  \n",
       "</tr>\n",
       "<tr>\n",
       "  <th>Time:</th>              <td>23:31:48</td>     <th>  Log-Likelihood:    </th>  <td> -27.864</td> \n",
       "</tr>\n",
       "<tr>\n",
       "  <th>converged:</th>           <td>True</td>       <th>  LL-Null:           </th>  <td> -290.15</td> \n",
       "</tr>\n",
       "<tr>\n",
       "  <th> </th>                      <td> </td>        <th>  LLR p-value:       </th> <td>2.136e-101</td>\n",
       "</tr>\n",
       "</table>\n",
       "<table class=\"simpletable\">\n",
       "<tr>\n",
       "                  <td></td>                     <th>coef</th>     <th>std err</th>      <th>z</th>      <th>P>|z|</th>  <th>[0.025</th>    <th>0.975]</th>  \n",
       "</tr>\n",
       "<tr>\n",
       "  <th>Intercept</th>                         <td>   -4.0052</td> <td>    2.589</td> <td>   -1.547</td> <td> 0.122</td> <td>   -9.079</td> <td>    1.069</td>\n",
       "</tr>\n",
       "<tr>\n",
       "  <th>handicapped_infants</th>               <td>    0.3767</td> <td>    0.540</td> <td>    0.698</td> <td> 0.485</td> <td>   -0.681</td> <td>    1.434</td>\n",
       "</tr>\n",
       "<tr>\n",
       "  <th>water_project_cost_sharing</th>        <td>   -0.7251</td> <td>    0.632</td> <td>   -1.147</td> <td> 0.251</td> <td>   -1.964</td> <td>    0.514</td>\n",
       "</tr>\n",
       "<tr>\n",
       "  <th>adoption_of_the_budget_resolution</th> <td>   -1.8835</td> <td>    0.511</td> <td>   -3.687</td> <td> 0.000</td> <td>   -2.885</td> <td>   -0.882</td>\n",
       "</tr>\n",
       "<tr>\n",
       "  <th>physician_fee_freeze</th>              <td>    4.3635</td> <td>    0.854</td> <td>    5.110</td> <td> 0.000</td> <td>    2.690</td> <td>    6.037</td>\n",
       "</tr>\n",
       "<tr>\n",
       "  <th>el_salvador_aid</th>                   <td>    0.6258</td> <td>    1.025</td> <td>    0.611</td> <td> 0.541</td> <td>   -1.382</td> <td>    2.634</td>\n",
       "</tr>\n",
       "<tr>\n",
       "  <th>religious_groups_in_schools</th>       <td>   -0.4286</td> <td>    0.664</td> <td>   -0.645</td> <td> 0.519</td> <td>   -1.731</td> <td>    0.874</td>\n",
       "</tr>\n",
       "<tr>\n",
       "  <th>nti_satellite_test_ban</th>            <td>    0.8887</td> <td>    0.643</td> <td>    1.383</td> <td> 0.167</td> <td>   -0.371</td> <td>    2.149</td>\n",
       "</tr>\n",
       "<tr>\n",
       "  <th>aid_to_nicaraguan_contras</th>         <td>    0.7705</td> <td>    0.975</td> <td>    0.791</td> <td> 0.429</td> <td>   -1.140</td> <td>    2.681</td>\n",
       "</tr>\n",
       "<tr>\n",
       "  <th>mx_missile</th>                        <td>   -1.1839</td> <td>    0.759</td> <td>   -1.559</td> <td> 0.119</td> <td>   -2.672</td> <td>    0.305</td>\n",
       "</tr>\n",
       "<tr>\n",
       "  <th>immigration</th>                       <td>    1.2229</td> <td>    0.553</td> <td>    2.211</td> <td> 0.027</td> <td>    0.139</td> <td>    2.307</td>\n",
       "</tr>\n",
       "<tr>\n",
       "  <th>synfuels_corporation_cutback</th>      <td>   -1.9940</td> <td>    0.573</td> <td>   -3.477</td> <td> 0.001</td> <td>   -3.118</td> <td>   -0.870</td>\n",
       "</tr>\n",
       "<tr>\n",
       "  <th>education_spending</th>                <td>    0.8404</td> <td>    0.525</td> <td>    1.600</td> <td> 0.110</td> <td>   -0.189</td> <td>    1.870</td>\n",
       "</tr>\n",
       "<tr>\n",
       "  <th>superfund_right_to_sue</th>            <td>   -0.0108</td> <td>    0.560</td> <td>   -0.019</td> <td> 0.985</td> <td>   -1.108</td> <td>    1.087</td>\n",
       "</tr>\n",
       "<tr>\n",
       "  <th>crime</th>                             <td>   -0.3830</td> <td>    0.647</td> <td>   -0.592</td> <td> 0.554</td> <td>   -1.651</td> <td>    0.885</td>\n",
       "</tr>\n",
       "<tr>\n",
       "  <th>duty_free_exports</th>                 <td>   -0.6353</td> <td>    0.500</td> <td>   -1.270</td> <td> 0.204</td> <td>   -1.616</td> <td>    0.345</td>\n",
       "</tr>\n",
       "<tr>\n",
       "  <th>export_administration_act_sa</th>      <td>    0.3221</td> <td>    0.605</td> <td>    0.533</td> <td> 0.594</td> <td>   -0.863</td> <td>    1.508</td>\n",
       "</tr>\n",
       "</table>"
      ],
      "text/plain": [
       "<class 'statsmodels.iolib.summary.Summary'>\n",
       "\"\"\"\n",
       "                           Logit Regression Results                           \n",
       "==============================================================================\n",
       "Dep. Variable:                  Party   No. Observations:                  435\n",
       "Model:                          Logit   Df Residuals:                      418\n",
       "Method:                           MLE   Df Model:                           16\n",
       "Date:                Sun, 18 Feb 2018   Pseudo R-squ.:                  0.9040\n",
       "Time:                        23:31:48   Log-Likelihood:                -27.864\n",
       "converged:                       True   LL-Null:                       -290.15\n",
       "                                        LLR p-value:                2.136e-101\n",
       "=====================================================================================================\n",
       "                                        coef    std err          z      P>|z|      [0.025      0.975]\n",
       "-----------------------------------------------------------------------------------------------------\n",
       "Intercept                            -4.0052      2.589     -1.547      0.122      -9.079       1.069\n",
       "handicapped_infants                   0.3767      0.540      0.698      0.485      -0.681       1.434\n",
       "water_project_cost_sharing           -0.7251      0.632     -1.147      0.251      -1.964       0.514\n",
       "adoption_of_the_budget_resolution    -1.8835      0.511     -3.687      0.000      -2.885      -0.882\n",
       "physician_fee_freeze                  4.3635      0.854      5.110      0.000       2.690       6.037\n",
       "el_salvador_aid                       0.6258      1.025      0.611      0.541      -1.382       2.634\n",
       "religious_groups_in_schools          -0.4286      0.664     -0.645      0.519      -1.731       0.874\n",
       "nti_satellite_test_ban                0.8887      0.643      1.383      0.167      -0.371       2.149\n",
       "aid_to_nicaraguan_contras             0.7705      0.975      0.791      0.429      -1.140       2.681\n",
       "mx_missile                           -1.1839      0.759     -1.559      0.119      -2.672       0.305\n",
       "immigration                           1.2229      0.553      2.211      0.027       0.139       2.307\n",
       "synfuels_corporation_cutback         -1.9940      0.573     -3.477      0.001      -3.118      -0.870\n",
       "education_spending                    0.8404      0.525      1.600      0.110      -0.189       1.870\n",
       "superfund_right_to_sue               -0.0108      0.560     -0.019      0.985      -1.108       1.087\n",
       "crime                                -0.3830      0.647     -0.592      0.554      -1.651       0.885\n",
       "duty_free_exports                    -0.6353      0.500     -1.270      0.204      -1.616       0.345\n",
       "export_administration_act_sa          0.3221      0.605      0.533      0.594      -0.863       1.508\n",
       "=====================================================================================================\n",
       "\n",
       "Possibly complete quasi-separation: A fraction 0.19 of observations can be\n",
       "perfectly predicted. This might indicate that there is complete\n",
       "quasi-separation. In this case some parameters will not be identified.\n",
       "\"\"\""
      ]
     },
     "execution_count": 9,
     "metadata": {},
     "output_type": "execute_result"
    }
   ],
   "source": [
    "#Building and training a Logistic Regression model\n",
    "import statsmodels.formula.api as sm\n",
    "logistic1 = sm.logit(formula='Party~handicapped_infants+water_project_cost_sharing+adoption_of_the_budget_resolution+physician_fee_freeze+el_salvador_aid+religious_groups_in_schools+nti_satellite_test_ban+aid_to_nicaraguan_contras+mx_missile+immigration+synfuels_corporation_cutback+education_spending+superfund_right_to_sue+crime+duty_free_exports+export_administration_act_sa', data=housevotes2)\n",
    "fitted1 = logistic1.fit()\n",
    "fitted1.summary()"
   ]
  },
  {
   "cell_type": "markdown",
   "metadata": {},
   "source": [
    "# predicting values"
   ]
  },
  {
   "cell_type": "code",
   "execution_count": 10,
   "metadata": {},
   "outputs": [
    {
     "data": {
      "text/plain": [
       "1    0.992469\n",
       "2    0.000141\n",
       "3    0.000003\n",
       "4    0.000003\n",
       "5    0.000036\n",
       "6    0.905726\n",
       "7    0.947206\n",
       "8    0.994531\n",
       "9    0.000397\n",
       "dtype: float64"
      ]
     },
     "execution_count": 10,
     "metadata": {},
     "output_type": "execute_result"
    }
   ],
   "source": [
    "###predicting values\n",
    "predicted_values1=fitted1.predict(housevotes2[['handicapped_infants']+['water_project_cost_sharing']+\n",
    "                                               ['adoption_of_the_budget_resolution']+['physician_fee_freeze']+\n",
    "                                              ['el_salvador_aid']+['religious_groups_in_schools']+\n",
    "                                              ['nti_satellite_test_ban']+['aid_to_nicaraguan_contras']+['mx_missile']+\n",
    "                                              ['immigration']+['synfuels_corporation_cutback']+\n",
    "                                              ['education_spending']+['superfund_right_to_sue']+['crime']+\n",
    "                                              ['duty_free_exports']+['export_administration_act_sa']])\n",
    "predicted_values1[1:10]"
   ]
  },
  {
   "cell_type": "markdown",
   "metadata": {},
   "source": [
    "# Converting predicted values into classes using threshold"
   ]
  },
  {
   "cell_type": "code",
   "execution_count": 11,
   "metadata": {},
   "outputs": [
    {
     "data": {
      "text/plain": [
       "array([ 1.,  1.,  0.,  0.,  0.,  0.,  1.,  1.,  1.,  0.,  1.,  0.,  0.,\n",
       "        0.,  1.,  1.,  0.,  0.,  1.,  0.,  0.,  0.,  0.,  0.,  0.,  0.,\n",
       "        0.,  0.,  1.,  0.,  1.,  0.,  0.,  1.,  0.,  1.,  1.,  1.,  1.,\n",
       "        0.,  0.,  0.,  0.,  0.,  0.,  0.,  0.,  0.,  0.,  1.,  0.,  1.,\n",
       "        0.,  1.,  0.,  1.,  1.,  1.,  1.,  1.,  0.,  1.,  0.,  0.,  0.,\n",
       "        1.,  1.,  1.,  0.,  0.,  0.,  0.,  0.,  1.,  0.,  0.,  0.,  0.,\n",
       "        0.,  1.,  0.,  0.,  1.,  1.,  1.,  0.,  1.,  1.,  0.,  1.,  0.,\n",
       "        0.,  0.,  0.,  0.,  0.,  0.,  0.,  0.,  1.,  0.,  0.,  0.,  0.,\n",
       "        0.,  0.,  1.,  0.,  0.,  0.,  0.,  1.,  0.,  1.,  0.,  0.,  0.,\n",
       "        1.,  0.,  1.,  1.,  1.,  1.,  1.,  0.,  1.,  1.,  0.,  0.,  0.,\n",
       "        0.,  0.,  1.,  1.,  1.,  1.,  1.,  0.,  0.,  0.,  1.,  1.,  1.,\n",
       "        0.,  0.,  0.,  1.,  0.,  1.,  0.,  1.,  0.,  0.,  0.,  1.,  1.,\n",
       "        1.,  0.,  1.,  0.,  0.,  0.,  0.,  1.,  0.,  0.,  1.,  1.,  0.,\n",
       "        0.,  0.,  1.,  0.,  0.,  0.,  0.,  1.,  0.,  0.,  0.,  0.,  0.,\n",
       "        0.,  0.,  0.,  0.,  0.,  0.,  1.,  0.,  1.,  1.,  0.,  0.,  0.,\n",
       "        1.,  0.,  1.,  0.,  0.,  0.,  0.,  0.,  0.,  1.,  0.,  1.,  1.,\n",
       "        0.,  0.,  0.,  1.,  0.,  0.,  1.,  0.,  0.,  1.,  0.,  0.,  0.,\n",
       "        0.,  0.,  1.,  1.,  1.,  0.,  0.,  1.,  1.,  1.,  1.,  0.,  1.,\n",
       "        0.,  1.,  0.,  0.,  0.,  1.,  1.,  0.,  0.,  0.,  0.,  0.,  0.,\n",
       "        1.,  0.,  0.,  1.,  1.,  0.,  1.,  0.,  0.,  1.,  1.,  0.,  0.,\n",
       "        0.,  0.,  0.,  0.,  0.,  0.,  1.,  1.,  0.,  0.,  0.,  0.,  0.,\n",
       "        1.,  1.,  0.,  1.,  1.,  1.,  1.,  0.,  1.,  1.,  1.,  0.,  0.,\n",
       "        0.,  0.,  0.,  0.,  0.,  0.,  0.,  0.,  0.,  1.,  1.,  0.,  0.,\n",
       "        0.,  1.,  0.,  1.,  1.,  1.,  1.,  1.,  0.,  1.,  0.,  1.,  0.,\n",
       "        0.,  1.,  1.,  1.,  0.,  0.,  0.,  0.,  0.,  0.,  0.,  0.,  1.,\n",
       "        0.,  1.,  1.,  0.,  0.,  1.,  0.,  0.,  0.,  0.,  1.,  0.,  0.,\n",
       "        0.,  1.,  1.,  0.,  0.,  1.,  0.,  1.,  1.,  1.,  0.,  1.,  0.,\n",
       "        1.,  0.,  1.,  0.,  1.,  1.,  1.,  0.,  1.,  0.,  0.,  0.,  1.,\n",
       "        1.,  0.,  0.,  0.,  0.,  1.,  0.,  0.,  0.,  0.,  1.,  1.,  0.,\n",
       "        1.,  1.,  1.,  0.,  0.,  0.,  0.,  0.,  0.,  0.,  0.,  1.,  0.,\n",
       "        0.,  0.,  1.,  0.,  0.,  0.,  0.,  0.,  0.,  1.,  1.,  1.,  1.,\n",
       "        1.,  1.,  1.,  0.,  1.,  0.,  1.,  1.,  0.,  1.,  1.,  0.,  0.,\n",
       "        1.,  0.,  0.,  0.,  1.,  0.,  0.,  0.,  0.,  0.,  0.,  1.,  0.,\n",
       "        0.,  1.,  0.,  1.,  1.,  1.])"
      ]
     },
     "execution_count": 11,
     "metadata": {},
     "output_type": "execute_result"
    }
   ],
   "source": [
    "### Converting predicted values into classes using threshold\n",
    "threshold=0.5\n",
    "\n",
    "predicted_class1=np.zeros(predicted_values1.shape)\n",
    "predicted_class1[predicted_values1>threshold]=1\n",
    "predicted_class1"
   ]
  },
  {
   "cell_type": "markdown",
   "metadata": {},
   "source": [
    "# Confusion matrix\n",
    "In the field of machine learning, a confusion matrix, also known as an error matrix, is a specific table layout that allows visualization of the performance of an algorithm, typically a supervised learning one"
   ]
  },
  {
   "cell_type": "markdown",
   "metadata": {},
   "source": [
    "# sensitivity and specificity\n",
    "Low sensitivity and high specificity. In medical diagnosis, test sensitivity is the ability of a test to correctly identify those with the disease (true positive rate), whereas test specificity is the ability of the test to correctly identify those without the disease (true negative rate)."
   ]
  },
  {
   "cell_type": "code",
   "execution_count": 12,
   "metadata": {},
   "outputs": [
    {
     "name": "stdout",
     "output_type": "stream",
     "text": [
      "Confusion Matrix : \n",
      " [[262   5]\n",
      " [  6 162]]\n",
      "Accuracy :  0.974712643678\n",
      "Sensitivity :  0.98127340824\n",
      "Specificity :  0.964285714286\n"
     ]
    }
   ],
   "source": [
    "#Confusion matrix, Accuracy, sensitivity and specificity\n",
    "from sklearn.metrics import confusion_matrix\n",
    "\n",
    "cm1 = confusion_matrix(housevotes2[['Party']],predicted_class1)\n",
    "print('Confusion Matrix : \\n', cm1)\n",
    "\n",
    "total1=sum(sum(cm1))\n",
    "#####from confusion matrix calculate accuracy\n",
    "accuracy1=(cm1[0,0]+cm1[1,1])/total1\n",
    "print ('Accuracy : ', accuracy1)\n",
    "\n",
    "sensitivity1 = cm1[0,0]/(cm1[0,0]+cm1[0,1])\n",
    "print('Sensitivity : ', sensitivity1 )\n",
    "\n",
    "specificity1 = cm1[1,1]/(cm1[1,0]+cm1[1,1])\n",
    "print('Specificity : ', specificity1)"
   ]
  },
  {
   "cell_type": "markdown",
   "metadata": {},
   "source": [
    "# Converting predicted values into classes using new threshold"
   ]
  },
  {
   "cell_type": "code",
   "execution_count": 13,
   "metadata": {},
   "outputs": [
    {
     "data": {
      "text/plain": [
       "array([ 1.,  1.,  0.,  0.,  0.,  0.,  1.,  1.,  1.,  0.,  1.,  0.,  0.,\n",
       "        0.,  1.,  1.,  0.,  0.,  1.,  0.,  0.,  0.,  0.,  0.,  0.,  0.,\n",
       "        0.,  0.,  1.,  0.,  1.,  0.,  0.,  1.,  0.,  1.,  1.,  1.,  1.,\n",
       "        0.,  0.,  0.,  0.,  0.,  0.,  0.,  0.,  0.,  0.,  1.,  0.,  1.,\n",
       "        0.,  1.,  0.,  1.,  1.,  1.,  1.,  1.,  0.,  1.,  0.,  0.,  0.,\n",
       "        1.,  1.,  1.,  0.,  0.,  0.,  0.,  0.,  1.,  0.,  0.,  0.,  0.,\n",
       "        0.,  1.,  0.,  0.,  1.,  1.,  1.,  0.,  1.,  1.,  0.,  1.,  0.,\n",
       "        0.,  0.,  0.,  0.,  0.,  0.,  0.,  0.,  1.,  0.,  0.,  0.,  0.,\n",
       "        0.,  0.,  1.,  0.,  0.,  0.,  0.,  1.,  0.,  1.,  0.,  0.,  0.,\n",
       "        1.,  0.,  1.,  1.,  1.,  1.,  1.,  0.,  1.,  1.,  0.,  0.,  0.,\n",
       "        0.,  0.,  1.,  1.,  1.,  1.,  1.,  0.,  0.,  0.,  1.,  1.,  1.,\n",
       "        0.,  0.,  0.,  1.,  0.,  1.,  0.,  1.,  0.,  0.,  0.,  1.,  1.,\n",
       "        1.,  0.,  1.,  0.,  0.,  0.,  0.,  1.,  0.,  0.,  1.,  1.,  0.,\n",
       "        0.,  0.,  1.,  0.,  0.,  0.,  0.,  1.,  0.,  0.,  0.,  0.,  0.,\n",
       "        0.,  0.,  0.,  0.,  0.,  0.,  1.,  0.,  1.,  1.,  0.,  0.,  0.,\n",
       "        1.,  0.,  1.,  0.,  0.,  0.,  0.,  0.,  0.,  1.,  0.,  1.,  1.,\n",
       "        0.,  0.,  0.,  1.,  0.,  0.,  1.,  0.,  0.,  1.,  0.,  0.,  0.,\n",
       "        0.,  0.,  1.,  1.,  1.,  0.,  0.,  1.,  1.,  1.,  1.,  0.,  1.,\n",
       "        0.,  1.,  0.,  0.,  0.,  1.,  1.,  0.,  0.,  0.,  0.,  0.,  0.,\n",
       "        1.,  0.,  0.,  1.,  1.,  0.,  1.,  0.,  0.,  1.,  1.,  0.,  0.,\n",
       "        0.,  0.,  0.,  0.,  0.,  0.,  1.,  0.,  0.,  0.,  0.,  0.,  0.,\n",
       "        1.,  1.,  0.,  1.,  1.,  1.,  1.,  0.,  1.,  1.,  1.,  0.,  0.,\n",
       "        0.,  0.,  0.,  0.,  0.,  0.,  0.,  0.,  0.,  1.,  1.,  0.,  0.,\n",
       "        0.,  1.,  0.,  1.,  1.,  1.,  1.,  1.,  0.,  1.,  0.,  1.,  0.,\n",
       "        0.,  1.,  1.,  0.,  0.,  0.,  0.,  0.,  0.,  0.,  0.,  0.,  0.,\n",
       "        0.,  0.,  1.,  0.,  0.,  1.,  0.,  0.,  0.,  0.,  1.,  0.,  0.,\n",
       "        0.,  1.,  1.,  0.,  0.,  1.,  0.,  1.,  1.,  1.,  0.,  1.,  0.,\n",
       "        1.,  0.,  1.,  0.,  1.,  1.,  1.,  0.,  1.,  0.,  0.,  0.,  1.,\n",
       "        0.,  0.,  0.,  0.,  0.,  1.,  0.,  0.,  0.,  0.,  1.,  0.,  0.,\n",
       "        1.,  1.,  1.,  0.,  0.,  0.,  0.,  0.,  0.,  0.,  0.,  0.,  0.,\n",
       "        0.,  0.,  1.,  0.,  0.,  0.,  0.,  0.,  0.,  1.,  1.,  1.,  1.,\n",
       "        1.,  1.,  1.,  0.,  1.,  0.,  1.,  1.,  0.,  1.,  1.,  0.,  0.,\n",
       "        1.,  0.,  0.,  0.,  1.,  0.,  0.,  0.,  0.,  0.,  0.,  1.,  0.,\n",
       "        0.,  1.,  0.,  1.,  1.,  1.])"
      ]
     },
     "execution_count": 13,
     "metadata": {},
     "output_type": "execute_result"
    }
   ],
   "source": [
    "### Converting predicted values into classes using new threshold\n",
    "threshold=0.8\n",
    "\n",
    "predicted_class1=np.zeros(predicted_values1.shape)\n",
    "predicted_class1[predicted_values1>threshold]=1\n",
    "predicted_class1"
   ]
  },
  {
   "cell_type": "code",
   "execution_count": 14,
   "metadata": {},
   "outputs": [
    {
     "name": "stdout",
     "output_type": "stream",
     "text": [
      "Confusion Matrix : \n",
      " [[265   2]\n",
      " [ 10 158]]\n",
      "Accuracy :  0.972413793103\n",
      "Sensitivity :  0.992509363296\n",
      "Specificity :  0.940476190476\n"
     ]
    }
   ],
   "source": [
    "#Confusion matrix, Accuracy, sensitivity and specificity\n",
    "from sklearn.metrics import confusion_matrix\n",
    "\n",
    "cm1 = confusion_matrix(housevotes2[['Party']],predicted_class1)\n",
    "print('Confusion Matrix : \\n', cm1)\n",
    "\n",
    "total1=sum(sum(cm1))\n",
    "#####from confusion matrix calculate accuracy\n",
    "accuracy1=(cm1[0,0]+cm1[1,1])/total1\n",
    "print ('Accuracy : ', accuracy1)\n",
    "\n",
    "sensitivity1 = cm1[0,0]/(cm1[0,0]+cm1[0,1])\n",
    "print('Sensitivity : ', sensitivity1 )\n",
    "\n",
    "specificity1 = cm1[1,1]/(cm1[1,0]+cm1[1,1])\n",
    "print('Specificity : ', specificity1)"
   ]
  },
  {
   "cell_type": "markdown",
   "metadata": {},
   "source": [
    "# Receiver operating characteristic\n",
    "In statistics, a receiver operating characteristic (ROC), or ROC curve, is a graphical plot that illustrates the performance of a binary classifier system as its discrimination threshold is varied. The curve is created by plotting the true positive rate (TPR) against the false positive rate (FPR) at various threshold settings."
   ]
  },
  {
   "cell_type": "code",
   "execution_count": 15,
   "metadata": {},
   "outputs": [
    {
     "data": {
      "image/png": "[encoded data removed]",
      "text/plain": [
       "<matplotlib.figure.Figure at 0x162bb326fd0>"
      ]
     },
     "metadata": {},
     "output_type": "display_data"
    }
   ],
   "source": [
    "###for visualising the plots use matplotlib and import roc_curve,auc from sklearn.metrics \n",
    "from sklearn.metrics import roc_curve, auc\n",
    "import matplotlib.pyplot as plt\n",
    "%matplotlib inline\n",
    "\n",
    "actual = housevotes2[['Party']]\n",
    "false_positive_rate, true_positive_rate, thresholds = roc_curve(actual, predicted_values1)\n",
    "plt.title('Receiver Operating Characteristic')\n",
    "plt.plot(false_positive_rate, true_positive_rate)\n",
    "plt.plot([0,1],[0,1],'r--')\n",
    "plt.xlim([-0.1,1.2])\n",
    "plt.ylim([-0.1,1.2])\n",
    "plt.ylabel('True Positive Rate(Sensitivity)')\n",
    "plt.xlabel('False Positive Rate(Specificity)')\n",
    "plt.show()"
   ]
  },
  {
   "cell_type": "markdown",
   "metadata": {},
   "source": [
    "# Cross Validation\n",
    "Cross-validation, sometimes called rotation estimation, is a model validation technique for assessing how the results of a statistical analysis will generalize to an independent data set. It is mainly used in settings where the goal is prediction, and one wants to estimate how accurately a predictive model will perform in practice."
   ]
  },
  {
   "cell_type": "code",
   "execution_count": 16,
   "metadata": {},
   "outputs": [
    {
     "name": "stdout",
     "output_type": "stream",
     "text": [
      "postive_predict_val : 0.833333333333\n",
      "negative_predict_val : 0.963636363636\n",
      "[ 0.95454545  0.96590909  0.96551724  0.96511628  0.93023256]\n",
      "average score =  0.956264124809\n",
      "std of scores =  0.0136938122021\n"
     ]
    }
   ],
   "source": [
    "from sklearn import cross_validation\n",
    "from sklearn import linear_model\n",
    "from sklearn import svm\n",
    "X = housevotes2.drop('Party', axis=1)\n",
    "y = housevotes2['Party']\n",
    "from sklearn.cross_validation import train_test_split\n",
    "Xtrain, Xtest, ytrain, ytest = train_test_split(X, y,\n",
    "                                                random_state=1)\n",
    "svc = svm.SVC(C=1, kernel='linear')\n",
    "k_fold = cross_validation.StratifiedKFold(y, n_folds=5)  \n",
    "# labels, the     number of folders\n",
    "#for train, test in k_fold:\n",
    "#    print train, test\n",
    "scores = cross_validation.cross_val_score(svc, X, y, cv=k_fold, scoring='accuracy') \n",
    "# clf.fit() is repeatedly called inside the cross_validation.cross_val_score()\n",
    "positive_predict_val=cm1[1,0]/(cm1[1,0]+cm1[0,1])\n",
    "print('postive_predict_val :', positive_predict_val)\n",
    "negative_predict_val=cm1[0,0]/(cm1[0,0]+cm1[1,0])\n",
    "print('negative_predict_val :', negative_predict_val)\n",
    "print (scores)\n",
    "print ('average score = ', np.mean(scores))\n",
    "print ('std of scores = ', np.std(scores))"
   ]
  },
  {
   "cell_type": "code",
   "execution_count": 9,
   "metadata": {},
   "outputs": [
    {
     "name": "stdout",
     "output_type": "stream",
     "text": [
      "Optimization terminated successfully.\n",
      "         Current function value: 0.064055\n",
      "         Iterations 10\n",
      "Confusion Matrix : \n",
      " [[267   0]\n",
      " [168   0]]\n",
      "democrat   republician\n",
      "Sensitivity, hit rate, recall, or true positive rate:  [ 1.  0.]\n",
      "Specificity or true negative rate :                    [ 0.  1.]\n"
     ]
    }
   ],
   "source": [
    "import pandas as pd\n",
    "import numpy as np\n",
    "from sklearn.metrics import confusion_matrix\n",
    "from sklearn import preprocessing\n",
    "le = preprocessing.LabelEncoder()\n",
    "housevotes = pd.read_csv('C:/Users/deepa/Desktop/1/DA/assignment/New folder/housevotes.csv', engine='python')\n",
    "housevotes2 = housevotes.apply(le.fit_transform)\n",
    "import statsmodels.formula.api as sm\n",
    "logistic1 = sm.logit(formula='Party~handicapped_infants+water_project_cost_sharing+adoption_of_the_budget_resolution+physician_fee_freeze+el_salvador_aid+religious_groups_in_schools+nti_satellite_test_ban+aid_to_nicaraguan_contras+mx_missile+immigration+synfuels_corporation_cutback+education_spending+superfund_right_to_sue+crime+duty_free_exports+export_administration_act_sa', data=housevotes2)\n",
    "fitted1 = logistic1.fit()\n",
    "predicted_values1=fitted1.predict(housevotes2[['handicapped_infants']+['water_project_cost_sharing']+\n",
    "                                               ['adoption_of_the_budget_resolution']+['physician_fee_freeze']+\n",
    "                                              ['el_salvador_aid']+['religious_groups_in_schools']+\n",
    "                                              ['nti_satellite_test_ban']+['aid_to_nicaraguan_contras']+['mx_missile']+\n",
    "                                              ['immigration']+['synfuels_corporation_cutback']+\n",
    "                                              ['education_spending']+['superfund_right_to_sue']+['crime']+\n",
    "                                              ['duty_free_exports']+['export_administration_act_sa']])\n",
    "predicted_class1=np.zeros(predicted_values1.shape)\n",
    "cm1 = confusion_matrix(housevotes2[['Party']],predicted_class1)\n",
    "print('Confusion Matrix : \\n', cm1)\n",
    "FP = cm1.sum(axis=0) - np.diag(cm1)  \n",
    "FN = cm1.sum(axis=1) - np.diag(cm1)\n",
    "TP = np.diag(cm1)\n",
    "TN = cm1.sum() - (FP + FN + TP)\n",
    "\n",
    "print(\"democrat   republician\")\n",
    "# Sensitivity, hit rate, recall, or true positive rate\n",
    "Sensitivity = TP/(TP+FN)\n",
    "print(\"Sensitivity, hit rate, recall, or true positive rate: \", Sensitivity)\n",
    "# Specificity or true negative rate\n",
    "Specificity = TN/(TN+FP) \n",
    "print(\"Specificity or true negative rate :                   \", Specificity)"
   ]
  }
 ],
 "metadata": {
  "kernelspec": {
   "display_name": "Python 3",
   "language": "python",
   "name": "python3"
  },
  "language_info": {
   "codemirror_mode": {
    "name": "ipython",
    "version": 3
   },
   "file_extension": ".py",
   "mimetype": "text/x-python",
   "name": "python",
   "nbconvert_exporter": "python",
   "pygments_lexer": "ipython3",
   "version": "3.6.5"
  }
 },
 "nbformat": 4,
 "nbformat_minor": 2
}
